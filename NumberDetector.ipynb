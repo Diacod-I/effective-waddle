{
  "cells": [
    {
      "cell_type": "code",
      "execution_count": 7,
      "metadata": {
        "colab": {
          "base_uri": "https://localhost:8080/"
        },
        "id": "pJ2vgxyUF2nk",
        "outputId": "73df5186-2709-4475-e573-0a8302bdb92e"
      },
      "outputs": [
        {
          "ename": "ModuleNotFoundError",
          "evalue": "No module named 'tensorflow'",
          "output_type": "error",
          "traceback": [
            "\u001b[1;31m---------------------------------------------------------------------------\u001b[0m",
            "\u001b[1;31mModuleNotFoundError\u001b[0m                       Traceback (most recent call last)",
            "\u001b[1;32mc:\\Users\\Advith Krishnan\\Downloads\\Untitled5.ipynb Cell 1\u001b[0m in \u001b[0;36m<module>\u001b[1;34m\u001b[0m\n\u001b[1;32m----> <a href='vscode-notebook-cell:/c%3A/Users/Advith%20Krishnan/Downloads/Untitled5.ipynb#W0sZmlsZQ%3D%3D?line=0'>1</a>\u001b[0m \u001b[39mimport\u001b[39;00m \u001b[39mtensorflow\u001b[39;00m \u001b[39mas\u001b[39;00m \u001b[39mtf\u001b[39;00m\n\u001b[0;32m      <a href='vscode-notebook-cell:/c%3A/Users/Advith%20Krishnan/Downloads/Untitled5.ipynb#W0sZmlsZQ%3D%3D?line=1'>2</a>\u001b[0m mnist \u001b[39m=\u001b[39m tf\u001b[39m.\u001b[39mkeras\u001b[39m.\u001b[39mdatasets\u001b[39m.\u001b[39mmnist\n\u001b[0;32m      <a href='vscode-notebook-cell:/c%3A/Users/Advith%20Krishnan/Downloads/Untitled5.ipynb#W0sZmlsZQ%3D%3D?line=2'>3</a>\u001b[0m (x_train,y_train) , (x_test,y_test) \u001b[39m=\u001b[39m mnist\u001b[39m.\u001b[39mload_data()\n",
            "\u001b[1;31mModuleNotFoundError\u001b[0m: No module named 'tensorflow'"
          ]
        }
      ],
      "source": [
        "import tensorflow as tf\n",
        "mnist = tf.keras.datasets.mnist\n",
        "(x_train,y_train) , (x_test,y_test) = mnist.load_data()\n",
        "x_train = tf.keras.utils.normalize(x_train,axis=1)\n",
        "x_test = tf.keras.utils.normalize(x_test,axis=1)\n",
        "\n",
        "relu=tf.nn.relu\n",
        "softmax=tf.nn.softmax\n",
        "\n",
        "model = tf.keras.models.Sequential()\n",
        "model.add(tf.keras.layers.Flatten(input_shape=(28,28)))\n",
        "model.add(tf.keras.layers.Dense(128, activation=relu))\n",
        "model.add(tf.keras.layers.Dense(128, activation=relu))\n",
        "model.add(tf.keras.layers.Dense(10, activation=softmax))\n",
        "model.compile(optimizer='adam',loss='sparse_categorical_crossentropy',metrics=['accuracy'])\n",
        "model.fit(x_train,y_train, epochs =3)"
      ]
    },
    {
      "cell_type": "code",
      "execution_count": 8,
      "metadata": {
        "colab": {
          "base_uri": "https://localhost:8080/"
        },
        "id": "2PEHBYZ9ecAh",
        "outputId": "fa338012-7170-4706-d0e9-b14b4e92580b"
      },
      "outputs": [
        {
          "ename": "NameError",
          "evalue": "name 'model' is not defined",
          "output_type": "error",
          "traceback": [
            "\u001b[1;31m---------------------------------------------------------------------------\u001b[0m",
            "\u001b[1;31mNameError\u001b[0m                                 Traceback (most recent call last)",
            "\u001b[1;32mc:\\Users\\Advith Krishnan\\Downloads\\Untitled5.ipynb Cell 2\u001b[0m in \u001b[0;36m<module>\u001b[1;34m\u001b[0m\n\u001b[1;32m----> <a href='vscode-notebook-cell:/c%3A/Users/Advith%20Krishnan/Downloads/Untitled5.ipynb#W1sZmlsZQ%3D%3D?line=0'>1</a>\u001b[0m val_loss, val_acc \u001b[39m=\u001b[39m model\u001b[39m.\u001b[39mevaluate(x_test,y_test)\n\u001b[0;32m      <a href='vscode-notebook-cell:/c%3A/Users/Advith%20Krishnan/Downloads/Untitled5.ipynb#W1sZmlsZQ%3D%3D?line=1'>2</a>\u001b[0m \u001b[39mprint\u001b[39m(\u001b[39m\"\u001b[39m\u001b[39m\\n\u001b[39;00m\u001b[39mAccuracy =\u001b[39m\u001b[39m\"\u001b[39m,val_acc)\n\u001b[0;32m      <a href='vscode-notebook-cell:/c%3A/Users/Advith%20Krishnan/Downloads/Untitled5.ipynb#W1sZmlsZQ%3D%3D?line=2'>3</a>\u001b[0m \u001b[39mprint\u001b[39m(\u001b[39m\"\u001b[39m\u001b[39mLoss =\u001b[39m\u001b[39m\"\u001b[39m,val_loss)\n",
            "\u001b[1;31mNameError\u001b[0m: name 'model' is not defined"
          ]
        }
      ],
      "source": [
        "val_loss, val_acc = model.evaluate(x_test,y_test)\n",
        "print(\"\\nAccuracy =\",val_acc)\n",
        "print(\"Loss =\",val_loss)"
      ]
    },
    {
      "cell_type": "code",
      "execution_count": 186,
      "metadata": {
        "colab": {
          "base_uri": "https://localhost:8080/"
        },
        "id": "FMZ5Y8o7fNp8",
        "outputId": "e3a954f3-c15d-4b29-8924-a64e699f4199"
      },
      "outputs": [
        {
          "name": "stdout",
          "output_type": "stream",
          "text": [
            "Length of Test Data is 10000\n",
            "[0, 981, 2106, 3169, 4191, 5136, 6033, 7001, 8008, 8964]\n"
          ]
        }
      ],
      "source": [
        "import matplotlib.pyplot as mlt\n",
        "import numpy as np\n",
        "model.save('Blerry-Number-Reader.model')\n",
        "\n",
        "def selection_sort(input_list,image_list):\n",
        "   for idx in range(len(input_list)):\n",
        "      min_idx = idx\n",
        "      for j in range( idx +1, len(input_list)):\n",
        "         if input_list[min_idx] > input_list[j]:\n",
        "          min_idx = j\n",
        "      input_list[idx], input_list[min_idx] = input_list[min_idx], input_list[idx]\n",
        "      image_list[idx],image_list[min_idx] = image_list[min_idx],image_list[idx]\n",
        "\n",
        "new = tf.keras.models.load_model('Blerry-Number-Reader.model')\n",
        "array = []\n",
        "img_arr=[]\n",
        "numim = []\n",
        "pos = 0\n",
        "numval = 0\n",
        "prediction = new.predict([x_test])\n",
        "for i in range(len(x_test)):\n",
        "  img = x_test[i]\n",
        "  number = np.argmax(prediction[i])\n",
        "  array.append(number)\n",
        "  img_arr.append(img)\n",
        "print(\"Length of Test Data is\",len(x_test))\n",
        "selection_sort(array,img_arr)\n",
        "numim.append(0)\n",
        "for i in range(len(array)):\n",
        "  if array[i]>numval:\n",
        "    numim.append(pos)\n",
        "    numval+=1\n",
        "  else:\n",
        "    pos+=1\n",
        "print(numim)\n"
      ]
    },
    {
      "cell_type": "code",
      "execution_count": 1,
      "metadata": {
        "colab": {
          "base_uri": "https://localhost:8080/",
          "height": 80
        },
        "id": "qL3nN1aLpzYY",
        "outputId": "4fae3c97-ee3b-49f0-ffd8-185f1a71e916"
      },
      "outputs": [
        {
          "ename": "NameError",
          "evalue": "name 'mlt' is not defined",
          "output_type": "error",
          "traceback": [
            "\u001b[1;31m---------------------------------------------------------------------------\u001b[0m",
            "\u001b[1;31mNameError\u001b[0m                                 Traceback (most recent call last)",
            "\u001b[1;32mc:\\Users\\Advith Krishnan\\Downloads\\Untitled5.ipynb Cell 4\u001b[0m in \u001b[0;36m<module>\u001b[1;34m\u001b[0m\n\u001b[1;32m----> <a href='vscode-notebook-cell:/c%3A/Users/Advith%20Krishnan/Downloads/Untitled5.ipynb#W3sZmlsZQ%3D%3D?line=0'>1</a>\u001b[0m f \u001b[39m=\u001b[39m mlt\u001b[39m.\u001b[39mfigure()\n\u001b[0;32m      <a href='vscode-notebook-cell:/c%3A/Users/Advith%20Krishnan/Downloads/Untitled5.ipynb#W3sZmlsZQ%3D%3D?line=1'>2</a>\u001b[0m \u001b[39mfor\u001b[39;00m i \u001b[39min\u001b[39;00m \u001b[39mrange\u001b[39m(\u001b[39m0\u001b[39m,\u001b[39m11\u001b[39m):\n\u001b[0;32m      <a href='vscode-notebook-cell:/c%3A/Users/Advith%20Krishnan/Downloads/Untitled5.ipynb#W3sZmlsZQ%3D%3D?line=2'>3</a>\u001b[0m   f\u001b[39m.\u001b[39madd_subplot(\u001b[39m1\u001b[39m,\u001b[39m10\u001b[39m,i\u001b[39m+\u001b[39m\u001b[39m1\u001b[39m)\n",
            "\u001b[1;31mNameError\u001b[0m: name 'mlt' is not defined"
          ]
        }
      ],
      "source": [
        "f = mlt.figure()\n",
        "for i in range(0,11):\n",
        "  f.add_subplot(1,10,i+1)\n",
        "  mlt.imshow(img_arr[numim[i]])\n",
        "mlt.show(block=False)\n",
        "  "
      ]
    },
    {
      "cell_type": "code",
      "execution_count": null,
      "metadata": {
        "id": "BnzYP4evuxlP"
      },
      "outputs": [],
      "source": []
    }
  ],
  "metadata": {
    "colab": {
      "provenance": []
    },
    "kernelspec": {
      "display_name": "Python 3.10.2 64-bit",
      "language": "python",
      "name": "python3"
    },
    "language_info": {
      "codemirror_mode": {
        "name": "ipython",
        "version": 3
      },
      "file_extension": ".py",
      "mimetype": "text/x-python",
      "name": "python",
      "nbconvert_exporter": "python",
      "pygments_lexer": "ipython3",
      "version": "3.10.2"
    },
    "vscode": {
      "interpreter": {
        "hash": "89e05fa30c3f76e5cfe3724de8e06a05f25584d71ddf58535921af654d759bd5"
      }
    }
  },
  "nbformat": 4,
  "nbformat_minor": 0
}
